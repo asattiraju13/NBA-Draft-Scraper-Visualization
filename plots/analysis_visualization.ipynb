{
 "cells": [
  {
   "cell_type": "markdown",
   "metadata": {},
   "source": [
    "# NBA BasketballReference Draft Scraper + Analysis & Visualizations"
   ]
  },
  {
   "cell_type": "markdown",
   "metadata": {},
   "source": [
    "## Project Overview:\n",
    "\n",
    "### Objective:\n",
    "\n",
    "I wish to collect the career stats of top picks from the past 20 NBA drafts. I will compare numerical stats among players in drafts using graphs and visualization techniques and will also explore interesting relationships among the scraped data with different visualization techniques.\n",
    "\n",
    "### Tasks:\n",
    "\n",
    "1. From www.basketball-reference.com/draft, scrape the rookie stats of the top 10 overall picks of last 20 NBA drafts (2001 - 2020)\n",
    "2. Scrape data into a single Pandas MultiIndexDataFrame with outer index of draft year and inner index of pick number\n",
    "3. Run DataFrame manipulations and various visualization techniques to gain insight into questions regarding drafting teams, picks, and player stats.\n",
    "\n",
    "*** In this analysis, \"Drafting teams\" includes teams that trade for a pick. Drafting teams are teams that a rookie plays for for the entire season. Therefore, teams that trade or receive picks midway through the season will not be counted in this analysis."
   ]
  },
  {
   "cell_type": "markdown",
   "metadata": {},
   "source": [
    "## Imports"
   ]
  },
  {
   "cell_type": "code",
   "execution_count": 24,
   "metadata": {},
   "outputs": [],
   "source": [
    "import numpy as np\n",
    "from scipy import stats\n",
    "\n",
    "import pandas as pd\n",
    "\n",
    "import requests\n",
    "from bs4 import BeautifulSoup\n",
    "\n",
    "import matplotlib.pyplot as plt\n",
    "import seaborn as sns\n",
    "sns.set_style('darkgrid')\n",
    "\n",
    "%matplotlib inline"
   ]
  },
  {
   "cell_type": "markdown",
   "metadata": {},
   "source": [
    "## Scraper Code and Processing"
   ]
  },
  {
   "cell_type": "code",
   "execution_count": 2,
   "metadata": {},
   "outputs": [],
   "source": [
    "# Initialize dictionary and lists to be used in scraper\n",
    "\n",
    "player_data = {'team_id':[],'pos':[],'player':[],'mp_per_g':[],'efg_pct':[],\n",
    "               'pts_per_g':[],'trb_per_g':[],'ast_per_g':[],'ws':[],'bpm':[]}   # Columns for DataFrame\n",
    "\n",
    "index_array = [[],[]]  # Used for MultiIndex\n",
    "\n",
    "positions = [\"Point Guard\",\"Shooting Guard\",\"Small Forward\",\"Power Forward\",\"Center\"] # Used to scrape Positions"
   ]
  },
  {
   "cell_type": "code",
   "execution_count": 3,
   "metadata": {},
   "outputs": [],
   "source": [
    "def get_doc(url):   # return BeautifulSoup parsed document\n",
    "    response = requests.get(url)\n",
    "    response.close()\n",
    "    soup = BeautifulSoup(response.text,'html.parser')\n",
    "    return soup\n",
    "\n",
    "\n",
    "def scrape_draft(doc,year): # Scrape players' data for single draft\n",
    "    tr_tags = doc.findAll('tr')\n",
    "    for pick in range(2,12,1):\n",
    "        get_advanced_stats(tr_tags, pick)  # Scrape certain stats from main draft page\n",
    "        player_url = \"https://www.basketball-reference.com\" + tr_tags[pick].find('td',{'data-stat':'player'}).a['href']\n",
    "        get_player_data(get_doc(player_url))  # Scrape stats from individual player pages\n",
    "        index_array[0].append(year)\n",
    "        index_array[1].append(pick - 1)\n",
    "        \n",
    "        \n",
    "def get_advanced_stats(tags, pick):  # Scrape player's career advanced stats from the draft page\n",
    "    for key in ['ws','bpm','player']:\n",
    "        field = tags[pick].find('td',{'data-stat': key})\n",
    "        if field is not None:\n",
    "            player_data[key].append(field.text)\n",
    "        else:\n",
    "            player_data[key].append(np.NaN)\n",
    "\n",
    "    \n",
    "def get_player_data(doc):  # Scraper player's rookie season data off of individual page\n",
    "    rookie_stats = doc.findAll('tr',{'class':'full_table'})[0]\n",
    "    for key in player_data:\n",
    "        if key not in ['pos','ws','bpm','player']:\n",
    "            field = rookie_stats.find('td',{'data-stat': key})\n",
    "            if field is not None:\n",
    "                player_data[key].append(field.text) # Append values to dictionary\n",
    "            else:\n",
    "                player_data[key].append(np.NaN)   # Appends missing values dictionary if no data to scrape\n",
    "    get_player_pos(doc)\n",
    "    \n",
    "        \n",
    "def get_player_pos(doc):  # Scrape player positions\n",
    "    test_sections = [doc.findAll('p')[i].text.strip() for i in range(1,5,1)]  # Possible lines with position titles\n",
    "    test_string = \"\"\n",
    "    for section in test_sections:\n",
    "        test_string += section  \n",
    "    pos = [pos for pos in positions if pos in test_string]  \n",
    "    player_data['pos'].append(pos) # Appends list of positions on website to dictionary\n",
    "    \n",
    "    \n",
    "def draft_scraper(start_year,end_year):   # Entire web scraper function\n",
    "    for year in range(start_year, end_year + 1, 1):  # Iterates through all draft years\n",
    "        draft_url = 'https://www.basketball-reference.com/draft/NBA_' + str(year) + '.html'\n",
    "        scrape_draft(get_doc(draft_url),year)\n",
    " \n",
    "    # Form MultiIndex\n",
    "    index_tuples = list(zip(*index_array))   \n",
    "    index = pd.MultiIndex.from_tuples(index_tuples, names=[\"year\", \"pick\"])  # Create a Pandas MultiIndex\n",
    "\n",
    "    return pd.DataFrame(player_data,index=index)  # Returns DataFrame version of player_data dictionary"
   ]
  },
  {
   "cell_type": "markdown",
   "metadata": {},
   "source": [
    "### Scrape Data into DataFrame"
   ]
  },
  {
   "cell_type": "code",
   "execution_count": 4,
   "metadata": {},
   "outputs": [],
   "source": [
    "draft_data = draft_scraper(2001,2020)"
   ]
  },
  {
   "cell_type": "code",
   "execution_count": 5,
   "metadata": {},
   "outputs": [
    {
     "data": {
      "text/html": [
       "<div>\n",
       "<style scoped>\n",
       "    .dataframe tbody tr th:only-of-type {\n",
       "        vertical-align: middle;\n",
       "    }\n",
       "\n",
       "    .dataframe tbody tr th {\n",
       "        vertical-align: top;\n",
       "    }\n",
       "\n",
       "    .dataframe thead th {\n",
       "        text-align: right;\n",
       "    }\n",
       "</style>\n",
       "<table border=\"1\" class=\"dataframe\">\n",
       "  <thead>\n",
       "    <tr style=\"text-align: right;\">\n",
       "      <th></th>\n",
       "      <th></th>\n",
       "      <th>team_id</th>\n",
       "      <th>pos</th>\n",
       "      <th>player</th>\n",
       "      <th>mp_per_g</th>\n",
       "      <th>efg_pct</th>\n",
       "      <th>pts_per_g</th>\n",
       "      <th>trb_per_g</th>\n",
       "      <th>ast_per_g</th>\n",
       "      <th>ws</th>\n",
       "      <th>bpm</th>\n",
       "    </tr>\n",
       "    <tr>\n",
       "      <th>year</th>\n",
       "      <th>pick</th>\n",
       "      <th></th>\n",
       "      <th></th>\n",
       "      <th></th>\n",
       "      <th></th>\n",
       "      <th></th>\n",
       "      <th></th>\n",
       "      <th></th>\n",
       "      <th></th>\n",
       "      <th></th>\n",
       "      <th></th>\n",
       "    </tr>\n",
       "  </thead>\n",
       "  <tbody>\n",
       "    <tr>\n",
       "      <th rowspan=\"5\" valign=\"top\">2001</th>\n",
       "      <th>1</th>\n",
       "      <td>WAS</td>\n",
       "      <td>[Power Forward, Center]</td>\n",
       "      <td>Kwame Brown</td>\n",
       "      <td>14.3</td>\n",
       "      <td>.387</td>\n",
       "      <td>4.5</td>\n",
       "      <td>3.5</td>\n",
       "      <td>0.8</td>\n",
       "      <td>20.8</td>\n",
       "      <td>-2.4</td>\n",
       "    </tr>\n",
       "    <tr>\n",
       "      <th>2</th>\n",
       "      <td>CHI</td>\n",
       "      <td>[Power Forward, Center]</td>\n",
       "      <td>Tyson Chandler</td>\n",
       "      <td>19.6</td>\n",
       "      <td>.497</td>\n",
       "      <td>6.1</td>\n",
       "      <td>4.8</td>\n",
       "      <td>0.8</td>\n",
       "      <td>102.1</td>\n",
       "      <td>0.1</td>\n",
       "    </tr>\n",
       "    <tr>\n",
       "      <th>3</th>\n",
       "      <td>MEM</td>\n",
       "      <td>[Power Forward, Center]</td>\n",
       "      <td>Pau Gasol</td>\n",
       "      <td>36.7</td>\n",
       "      <td>.518</td>\n",
       "      <td>17.6</td>\n",
       "      <td>8.9</td>\n",
       "      <td>2.7</td>\n",
       "      <td>144.1</td>\n",
       "      <td>3.6</td>\n",
       "    </tr>\n",
       "    <tr>\n",
       "      <th>4</th>\n",
       "      <td>CHI</td>\n",
       "      <td>[Power Forward, Center]</td>\n",
       "      <td>Eddy Curry</td>\n",
       "      <td>16.0</td>\n",
       "      <td>.501</td>\n",
       "      <td>6.7</td>\n",
       "      <td>3.8</td>\n",
       "      <td>0.3</td>\n",
       "      <td>21.7</td>\n",
       "      <td>-2.4</td>\n",
       "    </tr>\n",
       "    <tr>\n",
       "      <th>5</th>\n",
       "      <td>GSW</td>\n",
       "      <td>[Shooting Guard, Small Forward]</td>\n",
       "      <td>Jason Richardson</td>\n",
       "      <td>32.9</td>\n",
       "      <td>.463</td>\n",
       "      <td>14.4</td>\n",
       "      <td>4.3</td>\n",
       "      <td>3.0</td>\n",
       "      <td>59.1</td>\n",
       "      <td>1.2</td>\n",
       "    </tr>\n",
       "  </tbody>\n",
       "</table>\n",
       "</div>"
      ],
      "text/plain": [
       "          team_id                              pos            player mp_per_g  \\\n",
       "year pick                                                                       \n",
       "2001 1        WAS          [Power Forward, Center]       Kwame Brown     14.3   \n",
       "     2        CHI          [Power Forward, Center]    Tyson Chandler     19.6   \n",
       "     3        MEM          [Power Forward, Center]         Pau Gasol     36.7   \n",
       "     4        CHI          [Power Forward, Center]        Eddy Curry     16.0   \n",
       "     5        GSW  [Shooting Guard, Small Forward]  Jason Richardson     32.9   \n",
       "\n",
       "          efg_pct pts_per_g trb_per_g ast_per_g     ws   bpm  \n",
       "year pick                                                     \n",
       "2001 1       .387       4.5       3.5       0.8   20.8  -2.4  \n",
       "     2       .497       6.1       4.8       0.8  102.1   0.1  \n",
       "     3       .518      17.6       8.9       2.7  144.1   3.6  \n",
       "     4       .501       6.7       3.8       0.3   21.7  -2.4  \n",
       "     5       .463      14.4       4.3       3.0   59.1   1.2  "
      ]
     },
     "execution_count": 5,
     "metadata": {},
     "output_type": "execute_result"
    }
   ],
   "source": [
    "draft_data.head() # Check the head of the DataFrame"
   ]
  },
  {
   "cell_type": "markdown",
   "metadata": {},
   "source": [
    "### Data Cleaning / Processing"
   ]
  },
  {
   "cell_type": "code",
   "execution_count": 6,
   "metadata": {},
   "outputs": [],
   "source": [
    "#Convert 'numeric' objects into numeric types\n",
    "\n",
    "player_data = {'team_id':[],'pos':[],'player':[],'mp_per_g':[],'efg_pct':[],\n",
    "               'pts_per_g':[],'trb_per_g':[],'ast_per_g':[],'ws':[],'bpm':[]}  #For use in following processing\n",
    "\n",
    "draft_data.replace('',np.NaN,inplace=True)\n",
    "for key in player_data:\n",
    "    if key not in ['team_id','pos','player','g']:\n",
    "        draft_data[key] = draft_data[key].astype(float)"
   ]
  },
  {
   "cell_type": "code",
   "execution_count": 7,
   "metadata": {},
   "outputs": [],
   "source": [
    "#New Positions: guard, guard/forward, forward, forward/center, center\n",
    "\n",
    "def parse_pos(row):  #Function to parse scraped positions into 1 position\n",
    "    if len(row) == 1:\n",
    "        if row[0] == 'Point Guard' or row[0] == 'Shooting Guard':\n",
    "            return 'Guard'\n",
    "        elif row[0] == 'Small Forward' or row[0] == 'Power Forward':\n",
    "            return 'Forward'\n",
    "        elif row[0] == 'Center':\n",
    "            return 'Center'\n",
    "    elif row == ['Power Forward','Center']:\n",
    "        return 'Forward/Center'\n",
    "    elif row == ['Small Forward','Power Forward']:\n",
    "        return 'Forward'\n",
    "    elif row == ['Point Guard','Shooting Guard']:\n",
    "        return 'Guard'\n",
    "    elif row == ['Shooting Guard','Small Forward']:\n",
    "        return 'Guard/Forward'\n",
    "    elif len(row) == 3 and row[0] == 'Point Guard':\n",
    "        return 'Guard'\n",
    "    else:\n",
    "        return 'Forward'\n",
    "\n",
    "draft_data['pos'] = draft_data['pos'].apply(lambda x: parse_pos(x))   #\"Resets\" row to single position instead of list of positions"
   ]
  },
  {
   "cell_type": "code",
   "execution_count": 8,
   "metadata": {},
   "outputs": [],
   "source": [
    "# Replace TOT with Multiple (For players with multiple teams their rookie season)\n",
    "\n",
    "draft_data.replace('TOT','Multiple',inplace=True)"
   ]
  },
  {
   "cell_type": "code",
   "execution_count": 9,
   "metadata": {},
   "outputs": [
    {
     "data": {
      "text/html": [
       "<div>\n",
       "<style scoped>\n",
       "    .dataframe tbody tr th:only-of-type {\n",
       "        vertical-align: middle;\n",
       "    }\n",
       "\n",
       "    .dataframe tbody tr th {\n",
       "        vertical-align: top;\n",
       "    }\n",
       "\n",
       "    .dataframe thead th {\n",
       "        text-align: right;\n",
       "    }\n",
       "</style>\n",
       "<table border=\"1\" class=\"dataframe\">\n",
       "  <thead>\n",
       "    <tr style=\"text-align: right;\">\n",
       "      <th></th>\n",
       "      <th></th>\n",
       "      <th>team_id</th>\n",
       "      <th>pos</th>\n",
       "      <th>player</th>\n",
       "      <th>mp_per_g</th>\n",
       "      <th>efg_pct</th>\n",
       "      <th>pts_per_g</th>\n",
       "      <th>trb_per_g</th>\n",
       "      <th>ast_per_g</th>\n",
       "      <th>ws</th>\n",
       "      <th>bpm</th>\n",
       "    </tr>\n",
       "    <tr>\n",
       "      <th>year</th>\n",
       "      <th>pick</th>\n",
       "      <th></th>\n",
       "      <th></th>\n",
       "      <th></th>\n",
       "      <th></th>\n",
       "      <th></th>\n",
       "      <th></th>\n",
       "      <th></th>\n",
       "      <th></th>\n",
       "      <th></th>\n",
       "      <th></th>\n",
       "    </tr>\n",
       "  </thead>\n",
       "  <tbody>\n",
       "    <tr>\n",
       "      <th rowspan=\"5\" valign=\"top\">2001</th>\n",
       "      <th>1</th>\n",
       "      <td>WAS</td>\n",
       "      <td>Forward/Center</td>\n",
       "      <td>Kwame Brown</td>\n",
       "      <td>14.3</td>\n",
       "      <td>0.387</td>\n",
       "      <td>4.5</td>\n",
       "      <td>3.5</td>\n",
       "      <td>0.8</td>\n",
       "      <td>20.8</td>\n",
       "      <td>-2.4</td>\n",
       "    </tr>\n",
       "    <tr>\n",
       "      <th>2</th>\n",
       "      <td>CHI</td>\n",
       "      <td>Forward/Center</td>\n",
       "      <td>Tyson Chandler</td>\n",
       "      <td>19.6</td>\n",
       "      <td>0.497</td>\n",
       "      <td>6.1</td>\n",
       "      <td>4.8</td>\n",
       "      <td>0.8</td>\n",
       "      <td>102.1</td>\n",
       "      <td>0.1</td>\n",
       "    </tr>\n",
       "    <tr>\n",
       "      <th>3</th>\n",
       "      <td>MEM</td>\n",
       "      <td>Forward/Center</td>\n",
       "      <td>Pau Gasol</td>\n",
       "      <td>36.7</td>\n",
       "      <td>0.518</td>\n",
       "      <td>17.6</td>\n",
       "      <td>8.9</td>\n",
       "      <td>2.7</td>\n",
       "      <td>144.1</td>\n",
       "      <td>3.6</td>\n",
       "    </tr>\n",
       "    <tr>\n",
       "      <th>4</th>\n",
       "      <td>CHI</td>\n",
       "      <td>Forward/Center</td>\n",
       "      <td>Eddy Curry</td>\n",
       "      <td>16.0</td>\n",
       "      <td>0.501</td>\n",
       "      <td>6.7</td>\n",
       "      <td>3.8</td>\n",
       "      <td>0.3</td>\n",
       "      <td>21.7</td>\n",
       "      <td>-2.4</td>\n",
       "    </tr>\n",
       "    <tr>\n",
       "      <th>5</th>\n",
       "      <td>GSW</td>\n",
       "      <td>Guard/Forward</td>\n",
       "      <td>Jason Richardson</td>\n",
       "      <td>32.9</td>\n",
       "      <td>0.463</td>\n",
       "      <td>14.4</td>\n",
       "      <td>4.3</td>\n",
       "      <td>3.0</td>\n",
       "      <td>59.1</td>\n",
       "      <td>1.2</td>\n",
       "    </tr>\n",
       "    <tr>\n",
       "      <th>...</th>\n",
       "      <th>...</th>\n",
       "      <td>...</td>\n",
       "      <td>...</td>\n",
       "      <td>...</td>\n",
       "      <td>...</td>\n",
       "      <td>...</td>\n",
       "      <td>...</td>\n",
       "      <td>...</td>\n",
       "      <td>...</td>\n",
       "      <td>...</td>\n",
       "      <td>...</td>\n",
       "    </tr>\n",
       "    <tr>\n",
       "      <th rowspan=\"5\" valign=\"top\">2020</th>\n",
       "      <th>6</th>\n",
       "      <td>ATL</td>\n",
       "      <td>Center</td>\n",
       "      <td>Onyeka Okongwu</td>\n",
       "      <td>12.0</td>\n",
       "      <td>0.644</td>\n",
       "      <td>4.6</td>\n",
       "      <td>3.3</td>\n",
       "      <td>0.4</td>\n",
       "      <td>1.9</td>\n",
       "      <td>-1.3</td>\n",
       "    </tr>\n",
       "    <tr>\n",
       "      <th>7</th>\n",
       "      <td>DET</td>\n",
       "      <td>Guard</td>\n",
       "      <td>Killian Hayes</td>\n",
       "      <td>25.8</td>\n",
       "      <td>0.403</td>\n",
       "      <td>6.8</td>\n",
       "      <td>2.7</td>\n",
       "      <td>5.3</td>\n",
       "      <td>-1.1</td>\n",
       "      <td>-7.3</td>\n",
       "    </tr>\n",
       "    <tr>\n",
       "      <th>8</th>\n",
       "      <td>NYK</td>\n",
       "      <td>Forward</td>\n",
       "      <td>Obi Toppin</td>\n",
       "      <td>11.0</td>\n",
       "      <td>0.560</td>\n",
       "      <td>4.1</td>\n",
       "      <td>2.2</td>\n",
       "      <td>0.5</td>\n",
       "      <td>1.5</td>\n",
       "      <td>-1.0</td>\n",
       "    </tr>\n",
       "    <tr>\n",
       "      <th>9</th>\n",
       "      <td>WAS</td>\n",
       "      <td>Forward</td>\n",
       "      <td>Deni Avdija</td>\n",
       "      <td>23.3</td>\n",
       "      <td>0.502</td>\n",
       "      <td>6.3</td>\n",
       "      <td>4.9</td>\n",
       "      <td>1.2</td>\n",
       "      <td>1.2</td>\n",
       "      <td>-3.9</td>\n",
       "    </tr>\n",
       "    <tr>\n",
       "      <th>10</th>\n",
       "      <td>PHO</td>\n",
       "      <td>Forward</td>\n",
       "      <td>Jalen Smith</td>\n",
       "      <td>5.8</td>\n",
       "      <td>0.480</td>\n",
       "      <td>2.0</td>\n",
       "      <td>1.4</td>\n",
       "      <td>0.1</td>\n",
       "      <td>0.1</td>\n",
       "      <td>-6.2</td>\n",
       "    </tr>\n",
       "  </tbody>\n",
       "</table>\n",
       "<p>200 rows × 10 columns</p>\n",
       "</div>"
      ],
      "text/plain": [
       "          team_id             pos            player  mp_per_g  efg_pct  \\\n",
       "year pick                                                                \n",
       "2001 1        WAS  Forward/Center       Kwame Brown      14.3    0.387   \n",
       "     2        CHI  Forward/Center    Tyson Chandler      19.6    0.497   \n",
       "     3        MEM  Forward/Center         Pau Gasol      36.7    0.518   \n",
       "     4        CHI  Forward/Center        Eddy Curry      16.0    0.501   \n",
       "     5        GSW   Guard/Forward  Jason Richardson      32.9    0.463   \n",
       "...           ...             ...               ...       ...      ...   \n",
       "2020 6        ATL          Center    Onyeka Okongwu      12.0    0.644   \n",
       "     7        DET           Guard     Killian Hayes      25.8    0.403   \n",
       "     8        NYK         Forward        Obi Toppin      11.0    0.560   \n",
       "     9        WAS         Forward       Deni Avdija      23.3    0.502   \n",
       "     10       PHO         Forward       Jalen Smith       5.8    0.480   \n",
       "\n",
       "           pts_per_g  trb_per_g  ast_per_g     ws  bpm  \n",
       "year pick                                               \n",
       "2001 1           4.5        3.5        0.8   20.8 -2.4  \n",
       "     2           6.1        4.8        0.8  102.1  0.1  \n",
       "     3          17.6        8.9        2.7  144.1  3.6  \n",
       "     4           6.7        3.8        0.3   21.7 -2.4  \n",
       "     5          14.4        4.3        3.0   59.1  1.2  \n",
       "...              ...        ...        ...    ...  ...  \n",
       "2020 6           4.6        3.3        0.4    1.9 -1.3  \n",
       "     7           6.8        2.7        5.3   -1.1 -7.3  \n",
       "     8           4.1        2.2        0.5    1.5 -1.0  \n",
       "     9           6.3        4.9        1.2    1.2 -3.9  \n",
       "     10          2.0        1.4        0.1    0.1 -6.2  \n",
       "\n",
       "[200 rows x 10 columns]"
      ]
     },
     "execution_count": 9,
     "metadata": {},
     "output_type": "execute_result"
    }
   ],
   "source": [
    "draft_data"
   ]
  },
  {
   "cell_type": "markdown",
   "metadata": {},
   "source": [
    "## Analysis Questions (For Selected 2001 - 2020 NBA Drafts):\n",
    "\n",
    "The select questions are addressed below in sequential fashion."
   ]
  },
  {
   "cell_type": "markdown",
   "metadata": {},
   "source": [
    "### Analysis 1: Which teams had the most top-10 picks play for them their entire rookie season? Top-5 picks?"
   ]
  },
  {
   "cell_type": "code",
   "execution_count": 10,
   "metadata": {},
   "outputs": [
    {
     "data": {
      "text/plain": [
       "CHI    13\n",
       "MIN    12\n",
       "CLE    11\n",
       "GSW     9\n",
       "SAC     9\n",
       "DET     8\n",
       "Name: team_id, dtype: int64"
      ]
     },
     "execution_count": 10,
     "metadata": {},
     "output_type": "execute_result"
    }
   ],
   "source": [
    "most_top10_picks = draft_data.team_id.value_counts().sort_values(ascending=False).head(6)\n",
    "\n",
    "most_top10_picks"
   ]
  },
  {
   "cell_type": "code",
   "execution_count": 11,
   "metadata": {},
   "outputs": [
    {
     "data": {
      "text/plain": [
       "MIN    8\n",
       "CLE    7\n",
       "CHI    7\n",
       "MEM    6\n",
       "PHI    5\n",
       "ATL    5\n",
       "Name: team_id, dtype: int64"
      ]
     },
     "execution_count": 11,
     "metadata": {},
     "output_type": "execute_result"
    }
   ],
   "source": [
    "reset = draft_data.reset_index()\n",
    "most_top5_picks = reset[reset.pick < 6].team_id.value_counts().sort_values(ascending=False).head(6)\n",
    "\n",
    "most_top5_picks"
   ]
  },
  {
   "cell_type": "markdown",
   "metadata": {},
   "source": [
    "### Analysis 2: Of the top 5 teams with the most top-10 picks play for them their rookie season, which typically chose the rookies with the most career win shares?"
   ]
  },
  {
   "cell_type": "code",
   "execution_count": 12,
   "metadata": {},
   "outputs": [
    {
     "data": {
      "text/plain": [
       "team_id\n",
       "CLE     5.4\n",
       "DET     9.3\n",
       "SAC    13.2\n",
       "MIN    16.5\n",
       "CHI    21.7\n",
       "GSW    26.2\n",
       "Name: ws, dtype: float64"
      ]
     },
     "execution_count": 12,
     "metadata": {},
     "output_type": "execute_result"
    }
   ],
   "source": [
    "top_pick_teams = most_top10_picks.index.tolist()\n",
    "top_team_ws = draft_data.groupby('team_id').median().ws[top_pick_teams].sort_values(ascending=True)\n",
    "\n",
    "top_team_ws"
   ]
  },
  {
   "cell_type": "code",
   "execution_count": 25,
   "metadata": {},
   "outputs": [
    {
     "data": {
      "image/png": "[encoded data removed]",
      "text/plain": [
       "<Figure size 576x360 with 1 Axes>"
      ]
     },
     "metadata": {
      "needs_background": "light"
     },
     "output_type": "display_data"
    }
   ],
   "source": [
    "plt.figure(figsize=(8,5))\n",
    "sns.barplot(x=top_team_ws.index,y=top_team_ws.values,palette='Blues')\n",
    "\n",
    "plt.title('Median Career Win Shares of Players Drafted by Teams with Most Top-10 Picks',fontdict={'fontsize':15})\n",
    "plt.ylabel('ws')\n",
    "\n",
    "plt.tight_layout()\n",
    "\n",
    "plt.savefig('barplot.png')"
   ]
  },
  {
   "cell_type": "markdown",
   "metadata": {},
   "source": [
    "### Analysis 3: Have guards had increasing 3PT% in years closer to 2020 than 2001 due to the transition to a distance shooting era?"
   ]
  },
  {
   "cell_type": "code",
   "execution_count": 26,
   "metadata": {},
   "outputs": [
    {
     "data": {
      "image/png": "[encoded data removed]",
      "text/plain": [
       "<Figure size 432x432 with 3 Axes>"
      ]
     },
     "metadata": {
      "needs_background": "light"
     },
     "output_type": "display_data"
    }
   ],
   "source": [
    "guards = draft_data[draft_data.pos == 'Guard'].reset_index()\n",
    "guards\n",
    "\n",
    "plot = sns.jointplot(x='year',y='efg_pct',data=guards,kind='scatter',color='red')\n",
    "plot.fig.suptitle('Rookie EFG% for Guards drafted from 2001 - 2020 NBA Drafts', x=0.5, y=1, fontsize=15)\n",
    "plt.tight_layout()\n",
    "\n",
    "\n",
    "plt.savefig('jointplot.png')"
   ]
  },
  {
   "cell_type": "markdown",
   "metadata": {},
   "source": [
    "### Analysis 4: Can we visualize clear groupings by position based on players' points, assists, and rebounding averages?"
   ]
  },
  {
   "cell_type": "code",
   "execution_count": 15,
   "metadata": {},
   "outputs": [
    {
     "data": {
      "text/plain": [
       "Guard             65\n",
       "Forward           52\n",
       "Forward/Center    39\n",
       "Center            29\n",
       "Guard/Forward     15\n",
       "Name: pos, dtype: int64"
      ]
     },
     "execution_count": 15,
     "metadata": {},
     "output_type": "execute_result"
    }
   ],
   "source": [
    "# Let us regroup the positions into 3 categories: Guards, Wings, Big-Men \n",
    "# First, we need to see the best way to group these categories:\n",
    "\n",
    "draft_data['pos'].value_counts()"
   ]
  },
  {
   "cell_type": "code",
   "execution_count": 27,
   "metadata": {},
   "outputs": [
    {
     "data": {
      "application/vnd.plotly.v1+json": {
       "config": {
        "plotlyServerURL": "https://plot.ly"
       },
       "data": [
        {
         "hovertemplate": "new_pos=Big Man<br>pts_per_g=%{x}<br>ast_per_g=%{y}<br>trb_per_g=%{z}<extra></extra>",
         "legendgroup": "Big Man",
         "marker": {
          "color": "#636efa",
          "symbol": "circle"
         },
         "mode": "markers",
         "name": "Big Man",
         "scene": "scene",
         "showlegend": true,
         "type": "scatter3d",
         "x": [
          4.5,
          6.1,
          17.6,
          6.7,
          8.8,
          1.4,
          13.5,
          10.5,
          3.7,
          13.5,
          1.4,
          11.5,
          6.1,
          4.3,
          12,
          15.1,
          3.3,
          9.4,
          12.3,
          1.6,
          11.6,
          9,
          5.2,
          5.5,
          1.9,
          1.9,
          8.9,
          10.1,
          4,
          6.6,
          4.7,
          11.1,
          13,
          3.1,
          5.2,
          6.8,
          14.1,
          4.1,
          9.4,
          4.6,
          8.2,
          8.9,
          5.2,
          13.5,
          7.9,
          6,
          2,
          9.9,
          20.2,
          2,
          3.3,
          18.3,
          17.5,
          14.3,
          7,
          7.5,
          3.4,
          3.1,
          4,
          4.4,
          16.3,
          14.9,
          13.8,
          6.2,
          10.3,
          7.4,
          11.5,
          4.6
         ],
         "y": [
          0.8,
          0.8,
          2.7,
          0.3,
          0.7,
          0.3,
          1.7,
          1.9,
          0.5,
          1,
          0.2,
          1,
          1,
          0.3,
          0.9,
          0.9,
          0.3,
          2.3,
          0.8,
          0.2,
          0.8,
          0.4,
          0.6,
          0.5,
          0.6,
          0,
          0.5,
          1.5,
          0.2,
          1.1,
          0.6,
          1,
          1,
          0.2,
          0.4,
          0.5,
          2.5,
          0.7,
          1.3,
          0.1,
          0.5,
          0.7,
          0.4,
          1,
          0.5,
          1.1,
          0.1,
          1.7,
          2.1,
          0,
          0.2,
          2,
          1.2,
          1.3,
          0.6,
          1.2,
          0.5,
          0.2,
          0.4,
          0.8,
          1.8,
          1,
          1.1,
          0.8,
          1.8,
          0.9,
          0.7,
          0.4
         ],
         "z": [
          3.5,
          4.8,
          8.9,
          3.8,
          5.7,
          0.9,
          8.2,
          6.1,
          2.3,
          8.8,
          1.3,
          7.4,
          5.6,
          3.7,
          10,
          10.9,
          3.1,
          7,
          5.8,
          1.7,
          3.9,
          5,
          3.7,
          5.4,
          1.3,
          1.6,
          7,
          9.7,
          2.6,
          5.6,
          3.2,
          9.1,
          8.1,
          3.6,
          3.7,
          5.3,
          8.6,
          3.1,
          7.5,
          4.2,
          6.5,
          6,
          5.8,
          8.2,
          7.6,
          4.3,
          2.4,
          8.1,
          7.8,
          0,
          3.4,
          10.5,
          7,
          7.3,
          5.3,
          4.1,
          2.4,
          3.1,
          2,
          3.3,
          10.3,
          7.6,
          4.7,
          5,
          7,
          4,
          5.8,
          3.3
         ]
        },
        {
         "hovertemplate": "new_pos=Wing<br>pts_per_g=%{x}<br>ast_per_g=%{y}<br>trb_per_g=%{z}<extra></extra>",
         "legendgroup": "Wing",
         "marker": {
          "color": "#EF553B",
          "symbol": "circle"
         },
         "mode": "markers",
         "name": "Wing",
         "scene": "scene",
         "showlegend": true,
         "type": "scatter3d",
         "x": [
          14.4,
          14.4,
          3.5,
          7.5,
          5.7,
          12.5,
          3.9,
          15.4,
          20.9,
          21,
          9.6,
          10.1,
          11.7,
          9,
          2.9,
          8.5,
          6.6,
          13,
          7,
          11.8,
          10.8,
          20.3,
          10.5,
          8.6,
          5.8,
          13.9,
          6.1,
          16.1,
          4.7,
          22.5,
          8.6,
          9,
          5.6,
          5.4,
          7.8,
          8.8,
          4.7,
          9,
          4.8,
          9.2,
          6.4,
          4.2,
          2.1,
          8.8,
          16.9,
          12.3,
          5.2,
          6.1,
          8.1,
          6.4,
          9.4,
          6.6,
          9.2,
          13.9,
          13.1,
          5.4,
          15.2,
          12.8,
          8.3,
          22.5,
          12.3,
          13.5,
          10.5,
          9.2,
          4.1,
          6.3,
          2
         ],
         "y": [
          3,
          2.8,
          0.8,
          2.3,
          1.3,
          1.2,
          1.1,
          2.7,
          5.9,
          2.8,
          1.5,
          1.9,
          2.2,
          3,
          0.3,
          0.8,
          0.6,
          1.1,
          0.4,
          2.1,
          1.3,
          2.4,
          1.5,
          0.8,
          1.4,
          1,
          0.5,
          2.8,
          0.7,
          3.8,
          0.7,
          1.9,
          0.7,
          1.1,
          1.1,
          0.6,
          0.8,
          1.5,
          0.7,
          1.2,
          0.7,
          0.3,
          0.3,
          1,
          2.1,
          1.7,
          0.7,
          1.4,
          1.6,
          1.5,
          2.1,
          0.8,
          0.7,
          1.6,
          1.5,
          0.7,
          1.2,
          1.1,
          2.1,
          2.1,
          1.8,
          1.8,
          1.5,
          1.4,
          0.5,
          1.2,
          0.1
         ],
         "z": [
          4.3,
          5.4,
          1.1,
          3.3,
          2.6,
          6.5,
          2.2,
          5.1,
          5.5,
          6.1,
          3.8,
          6,
          5.3,
          5.7,
          0.6,
          4.8,
          2.1,
          6.4,
          3.3,
          2.9,
          4.5,
          4.4,
          4.7,
          5.2,
          3.7,
          5.4,
          2,
          2.6,
          1.9,
          12.1,
          2.9,
          3,
          3.3,
          1.9,
          3.7,
          4.7,
          4.4,
          5.8,
          4.5,
          4.1,
          2,
          3,
          1.5,
          2.9,
          4.6,
          5.5,
          3.6,
          2.2,
          4.2,
          5.2,
          4,
          2.8,
          4.2,
          5,
          4.6,
          3.7,
          7.5,
          4.5,
          3.2,
          6.3,
          4.5,
          6.1,
          3.7,
          4.6,
          2.2,
          4.9,
          1.4
         ]
        },
        {
         "hovertemplate": "new_pos=Guard<br>pts_per_g=%{x}<br>ast_per_g=%{y}<br>trb_per_g=%{z}<extra></extra>",
         "legendgroup": "Guard",
         "marker": {
          "color": "#00cc96",
          "symbol": "circle"
         },
         "mode": "markers",
         "name": "Guard",
         "scene": "scene",
         "showlegend": true,
         "type": "scatter3d",
         "x": [
          9.5,
          13.4,
          16.2,
          12,
          7.1,
          15.1,
          7.4,
          5.7,
          10.8,
          16.1,
          11.9,
          16.8,
          10.1,
          9.4,
          16.8,
          18.5,
          15.3,
          11.8,
          9.9,
          20.1,
          10.6,
          13.5,
          17.5,
          15.5,
          16.4,
          7.2,
          18.5,
          12.8,
          12.1,
          7.6,
          13.9,
          14.7,
          19,
          6.2,
          13.8,
          5.9,
          12.8,
          5.3,
          4.8,
          7.8,
          4.4,
          8.9,
          13.2,
          12.8,
          15.8,
          3.8,
          10.6,
          9.9,
          7.1,
          10.2,
          11.6,
          5.9,
          15.2,
          21.2,
          19.1,
          16.7,
          17.8,
          14.3,
          12.3,
          9.2,
          13.2,
          19.3,
          15.7,
          9.6,
          6.8
         ],
         "y": [
          4.7,
          2.8,
          4.5,
          6.8,
          6.5,
          2,
          5,
          2.2,
          4.5,
          7.8,
          5.6,
          4,
          2.8,
          4.2,
          6.3,
          3.2,
          5.3,
          3.5,
          1.8,
          5.8,
          8.2,
          4.4,
          5.9,
          5.7,
          8.3,
          2,
          5.4,
          3.8,
          4.4,
          1.8,
          2.4,
          3,
          6.5,
          2.1,
          4.1,
          0.7,
          5.7,
          0.7,
          2.4,
          3.1,
          0.9,
          6.5,
          3.3,
          5.5,
          8.2,
          2.4,
          1.5,
          2.1,
          3.8,
          7.2,
          4.4,
          3.2,
          5.2,
          6,
          8.1,
          3,
          7.3,
          2.6,
          3.9,
          1.7,
          2.7,
          2.9,
          6.1,
          1.9,
          5.3
         ],
         "z": [
          2.6,
          1.7,
          4,
          3.4,
          3.2,
          2.6,
          3,
          1.3,
          2.4,
          5.1,
          3.3,
          4.4,
          2.7,
          2.6,
          3.9,
          3.8,
          4.9,
          1.8,
          3.2,
          5.3,
          4.2,
          2.4,
          4.5,
          3.4,
          4.6,
          3.9,
          3.7,
          3.2,
          3.5,
          1.2,
          3.8,
          2.4,
          3.1,
          1.8,
          4.1,
          2,
          3,
          1.3,
          1.6,
          3.3,
          1.2,
          4.3,
          3.4,
          3.4,
          8.1,
          2.1,
          3.3,
          2.6,
          3.1,
          6.9,
          2.8,
          2.3,
          3.8,
          7.8,
          3.7,
          2.9,
          3.9,
          5,
          1.9,
          3.4,
          3.5,
          4.7,
          5.9,
          3.1,
          2.7
         ]
        }
       ],
       "layout": {
        "legend": {
         "title": {
          "text": "new_pos"
         },
         "tracegroupgap": 0
        },
        "margin": {
         "t": 60
        },
        "scene": {
         "domain": {
          "x": [
           0,
           1
          ],
          "y": [
           0,
           1
          ]
         },
         "xaxis": {
          "title": {
           "text": "pts_per_g"
          }
         },
         "yaxis": {
          "title": {
           "text": "ast_per_g"
          }
         },
         "zaxis": {
          "title": {
           "text": "trb_per_g"
          }
         }
        },
        "template": {
         "data": {
          "bar": [
           {
            "error_x": {
             "color": "#2a3f5f"
            },
            "error_y": {
             "color": "#2a3f5f"
            },
            "marker": {
             "line": {
              "color": "#E5ECF6",
              "width": 0.5
             }
            },
            "type": "bar"
           }
          ],
          "barpolar": [
           {
            "marker": {
             "line": {
              "color": "#E5ECF6",
              "width": 0.5
             }
            },
            "type": "barpolar"
           }
          ],
          "carpet": [
           {
            "aaxis": {
             "endlinecolor": "#2a3f5f",
             "gridcolor": "white",
             "linecolor": "white",
             "minorgridcolor": "white",
             "startlinecolor": "#2a3f5f"
            },
            "baxis": {
             "endlinecolor": "#2a3f5f",
             "gridcolor": "white",
             "linecolor": "white",
             "minorgridcolor": "white",
             "startlinecolor": "#2a3f5f"
            },
            "type": "carpet"
           }
          ],
          "choropleth": [
           {
            "colorbar": {
             "outlinewidth": 0,
             "ticks": ""
            },
            "type": "choropleth"
           }
          ],
          "contour": [
           {
            "colorbar": {
             "outlinewidth": 0,
             "ticks": ""
            },
            "colorscale": [
             [
              0,
              "#0d0887"
             ],
             [
              0.1111111111111111,
              "#46039f"
             ],
             [
              0.2222222222222222,
              "#7201a8"
             ],
             [
              0.3333333333333333,
              "#9c179e"
             ],
             [
              0.4444444444444444,
              "#bd3786"
             ],
             [
              0.5555555555555556,
              "#d8576b"
             ],
             [
              0.6666666666666666,
              "#ed7953"
             ],
             [
              0.7777777777777778,
              "#fb9f3a"
             ],
             [
              0.8888888888888888,
              "#fdca26"
             ],
             [
              1,
              "#f0f921"
             ]
            ],
            "type": "contour"
           }
          ],
          "contourcarpet": [
           {
            "colorbar": {
             "outlinewidth": 0,
             "ticks": ""
            },
            "type": "contourcarpet"
           }
          ],
          "heatmap": [
           {
            "colorbar": {
             "outlinewidth": 0,
             "ticks": ""
            },
            "colorscale": [
             [
              0,
              "#0d0887"
             ],
             [
              0.1111111111111111,
              "#46039f"
             ],
             [
              0.2222222222222222,
              "#7201a8"
             ],
             [
              0.3333333333333333,
              "#9c179e"
             ],
             [
              0.4444444444444444,
              "#bd3786"
             ],
             [
              0.5555555555555556,
              "#d8576b"
             ],
             [
              0.6666666666666666,
              "#ed7953"
             ],
             [
              0.7777777777777778,
              "#fb9f3a"
             ],
             [
              0.8888888888888888,
              "#fdca26"
             ],
             [
              1,
              "#f0f921"
             ]
            ],
            "type": "heatmap"
           }
          ],
          "heatmapgl": [
           {
            "colorbar": {
             "outlinewidth": 0,
             "ticks": ""
            },
            "colorscale": [
             [
              0,
              "#0d0887"
             ],
             [
              0.1111111111111111,
              "#46039f"
             ],
             [
              0.2222222222222222,
              "#7201a8"
             ],
             [
              0.3333333333333333,
              "#9c179e"
             ],
             [
              0.4444444444444444,
              "#bd3786"
             ],
             [
              0.5555555555555556,
              "#d8576b"
             ],
             [
              0.6666666666666666,
              "#ed7953"
             ],
             [
              0.7777777777777778,
              "#fb9f3a"
             ],
             [
              0.8888888888888888,
              "#fdca26"
             ],
             [
              1,
              "#f0f921"
             ]
            ],
            "type": "heatmapgl"
           }
          ],
          "histogram": [
           {
            "marker": {
             "colorbar": {
              "outlinewidth": 0,
              "ticks": ""
             }
            },
            "type": "histogram"
           }
          ],
          "histogram2d": [
           {
            "colorbar": {
             "outlinewidth": 0,
             "ticks": ""
            },
            "colorscale": [
             [
              0,
              "#0d0887"
             ],
             [
              0.1111111111111111,
              "#46039f"
             ],
             [
              0.2222222222222222,
              "#7201a8"
             ],
             [
              0.3333333333333333,
              "#9c179e"
             ],
             [
              0.4444444444444444,
              "#bd3786"
             ],
             [
              0.5555555555555556,
              "#d8576b"
             ],
             [
              0.6666666666666666,
              "#ed7953"
             ],
             [
              0.7777777777777778,
              "#fb9f3a"
             ],
             [
              0.8888888888888888,
              "#fdca26"
             ],
             [
              1,
              "#f0f921"
             ]
            ],
            "type": "histogram2d"
           }
          ],
          "histogram2dcontour": [
           {
            "colorbar": {
             "outlinewidth": 0,
             "ticks": ""
            },
            "colorscale": [
             [
              0,
              "#0d0887"
             ],
             [
              0.1111111111111111,
              "#46039f"
             ],
             [
              0.2222222222222222,
              "#7201a8"
             ],
             [
              0.3333333333333333,
              "#9c179e"
             ],
             [
              0.4444444444444444,
              "#bd3786"
             ],
             [
              0.5555555555555556,
              "#d8576b"
             ],
             [
              0.6666666666666666,
              "#ed7953"
             ],
             [
              0.7777777777777778,
              "#fb9f3a"
             ],
             [
              0.8888888888888888,
              "#fdca26"
             ],
             [
              1,
              "#f0f921"
             ]
            ],
            "type": "histogram2dcontour"
           }
          ],
          "mesh3d": [
           {
            "colorbar": {
             "outlinewidth": 0,
             "ticks": ""
            },
            "type": "mesh3d"
           }
          ],
          "parcoords": [
           {
            "line": {
             "colorbar": {
              "outlinewidth": 0,
              "ticks": ""
             }
            },
            "type": "parcoords"
           }
          ],
          "pie": [
           {
            "automargin": true,
            "type": "pie"
           }
          ],
          "scatter": [
           {
            "marker": {
             "colorbar": {
              "outlinewidth": 0,
              "ticks": ""
             }
            },
            "type": "scatter"
           }
          ],
          "scatter3d": [
           {
            "line": {
             "colorbar": {
              "outlinewidth": 0,
              "ticks": ""
             }
            },
            "marker": {
             "colorbar": {
              "outlinewidth": 0,
              "ticks": ""
             }
            },
            "type": "scatter3d"
           }
          ],
          "scattercarpet": [
           {
            "marker": {
             "colorbar": {
              "outlinewidth": 0,
              "ticks": ""
             }
            },
            "type": "scattercarpet"
           }
          ],
          "scattergeo": [
           {
            "marker": {
             "colorbar": {
              "outlinewidth": 0,
              "ticks": ""
             }
            },
            "type": "scattergeo"
           }
          ],
          "scattergl": [
           {
            "marker": {
             "colorbar": {
              "outlinewidth": 0,
              "ticks": ""
             }
            },
            "type": "scattergl"
           }
          ],
          "scattermapbox": [
           {
            "marker": {
             "colorbar": {
              "outlinewidth": 0,
              "ticks": ""
             }
            },
            "type": "scattermapbox"
           }
          ],
          "scatterpolar": [
           {
            "marker": {
             "colorbar": {
              "outlinewidth": 0,
              "ticks": ""
             }
            },
            "type": "scatterpolar"
           }
          ],
          "scatterpolargl": [
           {
            "marker": {
             "colorbar": {
              "outlinewidth": 0,
              "ticks": ""
             }
            },
            "type": "scatterpolargl"
           }
          ],
          "scatterternary": [
           {
            "marker": {
             "colorbar": {
              "outlinewidth": 0,
              "ticks": ""
             }
            },
            "type": "scatterternary"
           }
          ],
          "surface": [
           {
            "colorbar": {
             "outlinewidth": 0,
             "ticks": ""
            },
            "colorscale": [
             [
              0,
              "#0d0887"
             ],
             [
              0.1111111111111111,
              "#46039f"
             ],
             [
              0.2222222222222222,
              "#7201a8"
             ],
             [
              0.3333333333333333,
              "#9c179e"
             ],
             [
              0.4444444444444444,
              "#bd3786"
             ],
             [
              0.5555555555555556,
              "#d8576b"
             ],
             [
              0.6666666666666666,
              "#ed7953"
             ],
             [
              0.7777777777777778,
              "#fb9f3a"
             ],
             [
              0.8888888888888888,
              "#fdca26"
             ],
             [
              1,
              "#f0f921"
             ]
            ],
            "type": "surface"
           }
          ],
          "table": [
           {
            "cells": {
             "fill": {
              "color": "#EBF0F8"
             },
             "line": {
              "color": "white"
             }
            },
            "header": {
             "fill": {
              "color": "#C8D4E3"
             },
             "line": {
              "color": "white"
             }
            },
            "type": "table"
           }
          ]
         },
         "layout": {
          "annotationdefaults": {
           "arrowcolor": "#2a3f5f",
           "arrowhead": 0,
           "arrowwidth": 1
          },
          "coloraxis": {
           "colorbar": {
            "outlinewidth": 0,
            "ticks": ""
           }
          },
          "colorscale": {
           "diverging": [
            [
             0,
             "#8e0152"
            ],
            [
             0.1,
             "#c51b7d"
            ],
            [
             0.2,
             "#de77ae"
            ],
            [
             0.3,
             "#f1b6da"
            ],
            [
             0.4,
             "#fde0ef"
            ],
            [
             0.5,
             "#f7f7f7"
            ],
            [
             0.6,
             "#e6f5d0"
            ],
            [
             0.7,
             "#b8e186"
            ],
            [
             0.8,
             "#7fbc41"
            ],
            [
             0.9,
             "#4d9221"
            ],
            [
             1,
             "#276419"
            ]
           ],
           "sequential": [
            [
             0,
             "#0d0887"
            ],
            [
             0.1111111111111111,
             "#46039f"
            ],
            [
             0.2222222222222222,
             "#7201a8"
            ],
            [
             0.3333333333333333,
             "#9c179e"
            ],
            [
             0.4444444444444444,
             "#bd3786"
            ],
            [
             0.5555555555555556,
             "#d8576b"
            ],
            [
             0.6666666666666666,
             "#ed7953"
            ],
            [
             0.7777777777777778,
             "#fb9f3a"
            ],
            [
             0.8888888888888888,
             "#fdca26"
            ],
            [
             1,
             "#f0f921"
            ]
           ],
           "sequentialminus": [
            [
             0,
             "#0d0887"
            ],
            [
             0.1111111111111111,
             "#46039f"
            ],
            [
             0.2222222222222222,
             "#7201a8"
            ],
            [
             0.3333333333333333,
             "#9c179e"
            ],
            [
             0.4444444444444444,
             "#bd3786"
            ],
            [
             0.5555555555555556,
             "#d8576b"
            ],
            [
             0.6666666666666666,
             "#ed7953"
            ],
            [
             0.7777777777777778,
             "#fb9f3a"
            ],
            [
             0.8888888888888888,
             "#fdca26"
            ],
            [
             1,
             "#f0f921"
            ]
           ]
          },
          "colorway": [
           "#636efa",
           "#EF553B",
           "#00cc96",
           "#ab63fa",
           "#FFA15A",
           "#19d3f3",
           "#FF6692",
           "#B6E880",
           "#FF97FF",
           "#FECB52"
          ],
          "font": {
           "color": "#2a3f5f"
          },
          "geo": {
           "bgcolor": "white",
           "lakecolor": "white",
           "landcolor": "#E5ECF6",
           "showlakes": true,
           "showland": true,
           "subunitcolor": "white"
          },
          "hoverlabel": {
           "align": "left"
          },
          "hovermode": "closest",
          "mapbox": {
           "style": "light"
          },
          "paper_bgcolor": "white",
          "plot_bgcolor": "#E5ECF6",
          "polar": {
           "angularaxis": {
            "gridcolor": "white",
            "linecolor": "white",
            "ticks": ""
           },
           "bgcolor": "#E5ECF6",
           "radialaxis": {
            "gridcolor": "white",
            "linecolor": "white",
            "ticks": ""
           }
          },
          "scene": {
           "xaxis": {
            "backgroundcolor": "#E5ECF6",
            "gridcolor": "white",
            "gridwidth": 2,
            "linecolor": "white",
            "showbackground": true,
            "ticks": "",
            "zerolinecolor": "white"
           },
           "yaxis": {
            "backgroundcolor": "#E5ECF6",
            "gridcolor": "white",
            "gridwidth": 2,
            "linecolor": "white",
            "showbackground": true,
            "ticks": "",
            "zerolinecolor": "white"
           },
           "zaxis": {
            "backgroundcolor": "#E5ECF6",
            "gridcolor": "white",
            "gridwidth": 2,
            "linecolor": "white",
            "showbackground": true,
            "ticks": "",
            "zerolinecolor": "white"
           }
          },
          "shapedefaults": {
           "line": {
            "color": "#2a3f5f"
           }
          },
          "ternary": {
           "aaxis": {
            "gridcolor": "white",
            "linecolor": "white",
            "ticks": ""
           },
           "baxis": {
            "gridcolor": "white",
            "linecolor": "white",
            "ticks": ""
           },
           "bgcolor": "#E5ECF6",
           "caxis": {
            "gridcolor": "white",
            "linecolor": "white",
            "ticks": ""
           }
          },
          "title": {
           "x": 0.05
          },
          "xaxis": {
           "automargin": true,
           "gridcolor": "white",
           "linecolor": "white",
           "ticks": "",
           "title": {
            "standoff": 15
           },
           "zerolinecolor": "white",
           "zerolinewidth": 2
          },
          "yaxis": {
           "automargin": true,
           "gridcolor": "white",
           "linecolor": "white",
           "ticks": "",
           "title": {
            "standoff": 15
           },
           "zerolinecolor": "white",
           "zerolinewidth": 2
          }
         }
        }
       }
      },
      "text/html": [
       "<div>\n",
       "        \n",
       "        \n",
       "            <div id=\"e42fb958-8f81-439e-a152-0222f50c6f9d\" class=\"plotly-graph-div\" style=\"height:525px; width:100%;\"></div>\n",
       "            <script type=\"text/javascript\">\n",
       "                require([\"plotly\"], function(Plotly) {\n",
       "                    window.PLOTLYENV=window.PLOTLYENV || {};\n",
       "                    \n",
       "                if (document.getElementById(\"e42fb958-8f81-439e-a152-0222f50c6f9d\")) {\n",
       "                    Plotly.newPlot(\n",
       "                        'e42fb958-8f81-439e-a152-0222f50c6f9d',\n",
       "                        [{\"hovertemplate\": \"new_pos=Big Man<br>pts_per_g=%{x}<br>ast_per_g=%{y}<br>trb_per_g=%{z}<extra></extra>\", \"legendgroup\": \"Big Man\", \"marker\": {\"color\": \"#636efa\", \"symbol\": \"circle\"}, \"mode\": \"markers\", \"name\": \"Big Man\", \"scene\": \"scene\", \"showlegend\": true, \"type\": \"scatter3d\", \"x\": [4.5, 6.1, 17.6, 6.7, 8.8, 1.4, 13.5, 10.5, 3.7, 13.5, 1.4, 11.5, 6.1, 4.3, 12.0, 15.1, 3.3, 9.4, 12.3, 1.6, 11.6, 9.0, 5.2, 5.5, 1.9, 1.9, 8.9, 10.1, 4.0, 6.6, 4.7, 11.1, 13.0, 3.1, 5.2, 6.8, 14.1, 4.1, 9.4, 4.6, 8.2, 8.9, 5.2, 13.5, 7.9, 6.0, 2.0, 9.9, 20.2, 2.0, 3.3, 18.3, 17.5, 14.3, 7.0, 7.5, 3.4, 3.1, 4.0, 4.4, 16.3, 14.9, 13.8, 6.2, 10.3, 7.4, 11.5, 4.6], \"y\": [0.8, 0.8, 2.7, 0.3, 0.7, 0.3, 1.7, 1.9, 0.5, 1.0, 0.2, 1.0, 1.0, 0.3, 0.9, 0.9, 0.3, 2.3, 0.8, 0.2, 0.8, 0.4, 0.6, 0.5, 0.6, 0.0, 0.5, 1.5, 0.2, 1.1, 0.6, 1.0, 1.0, 0.2, 0.4, 0.5, 2.5, 0.7, 1.3, 0.1, 0.5, 0.7, 0.4, 1.0, 0.5, 1.1, 0.1, 1.7, 2.1, 0.0, 0.2, 2.0, 1.2, 1.3, 0.6, 1.2, 0.5, 0.2, 0.4, 0.8, 1.8, 1.0, 1.1, 0.8, 1.8, 0.9, 0.7, 0.4], \"z\": [3.5, 4.8, 8.9, 3.8, 5.7, 0.9, 8.2, 6.1, 2.3, 8.8, 1.3, 7.4, 5.6, 3.7, 10.0, 10.9, 3.1, 7.0, 5.8, 1.7, 3.9, 5.0, 3.7, 5.4, 1.3, 1.6, 7.0, 9.7, 2.6, 5.6, 3.2, 9.1, 8.1, 3.6, 3.7, 5.3, 8.6, 3.1, 7.5, 4.2, 6.5, 6.0, 5.8, 8.2, 7.6, 4.3, 2.4, 8.1, 7.8, 0.0, 3.4, 10.5, 7.0, 7.3, 5.3, 4.1, 2.4, 3.1, 2.0, 3.3, 10.3, 7.6, 4.7, 5.0, 7.0, 4.0, 5.8, 3.3]}, {\"hovertemplate\": \"new_pos=Wing<br>pts_per_g=%{x}<br>ast_per_g=%{y}<br>trb_per_g=%{z}<extra></extra>\", \"legendgroup\": \"Wing\", \"marker\": {\"color\": \"#EF553B\", \"symbol\": \"circle\"}, \"mode\": \"markers\", \"name\": \"Wing\", \"scene\": \"scene\", \"showlegend\": true, \"type\": \"scatter3d\", \"x\": [14.4, 14.4, 3.5, 7.5, 5.7, 12.5, 3.9, 15.4, 20.9, 21.0, 9.6, 10.1, 11.7, 9.0, 2.9, 8.5, 6.6, 13.0, 7.0, 11.8, 10.8, 20.3, 10.5, 8.6, 5.8, 13.9, 6.1, 16.1, 4.7, 22.5, 8.6, 9.0, 5.6, 5.4, 7.8, 8.8, 4.7, 9.0, 4.8, 9.2, 6.4, 4.2, 2.1, 8.8, 16.9, 12.3, 5.2, 6.1, 8.1, 6.4, 9.4, 6.6, 9.2, 13.9, 13.1, 5.4, 15.2, 12.8, 8.3, 22.5, 12.3, 13.5, 10.5, 9.2, 4.1, 6.3, 2.0], \"y\": [3.0, 2.8, 0.8, 2.3, 1.3, 1.2, 1.1, 2.7, 5.9, 2.8, 1.5, 1.9, 2.2, 3.0, 0.3, 0.8, 0.6, 1.1, 0.4, 2.1, 1.3, 2.4, 1.5, 0.8, 1.4, 1.0, 0.5, 2.8, 0.7, 3.8, 0.7, 1.9, 0.7, 1.1, 1.1, 0.6, 0.8, 1.5, 0.7, 1.2, 0.7, 0.3, 0.3, 1.0, 2.1, 1.7, 0.7, 1.4, 1.6, 1.5, 2.1, 0.8, 0.7, 1.6, 1.5, 0.7, 1.2, 1.1, 2.1, 2.1, 1.8, 1.8, 1.5, 1.4, 0.5, 1.2, 0.1], \"z\": [4.3, 5.4, 1.1, 3.3, 2.6, 6.5, 2.2, 5.1, 5.5, 6.1, 3.8, 6.0, 5.3, 5.7, 0.6, 4.8, 2.1, 6.4, 3.3, 2.9, 4.5, 4.4, 4.7, 5.2, 3.7, 5.4, 2.0, 2.6, 1.9, 12.1, 2.9, 3.0, 3.3, 1.9, 3.7, 4.7, 4.4, 5.8, 4.5, 4.1, 2.0, 3.0, 1.5, 2.9, 4.6, 5.5, 3.6, 2.2, 4.2, 5.2, 4.0, 2.8, 4.2, 5.0, 4.6, 3.7, 7.5, 4.5, 3.2, 6.3, 4.5, 6.1, 3.7, 4.6, 2.2, 4.9, 1.4]}, {\"hovertemplate\": \"new_pos=Guard<br>pts_per_g=%{x}<br>ast_per_g=%{y}<br>trb_per_g=%{z}<extra></extra>\", \"legendgroup\": \"Guard\", \"marker\": {\"color\": \"#00cc96\", \"symbol\": \"circle\"}, \"mode\": \"markers\", \"name\": \"Guard\", \"scene\": \"scene\", \"showlegend\": true, \"type\": \"scatter3d\", \"x\": [9.5, 13.4, 16.2, 12.0, 7.1, 15.1, 7.4, 5.7, 10.8, 16.1, 11.9, 16.8, 10.1, 9.4, 16.8, 18.5, 15.3, 11.8, 9.9, 20.1, 10.6, 13.5, 17.5, 15.5, 16.4, 7.2, 18.5, 12.8, 12.1, 7.6, 13.9, 14.7, 19.0, 6.2, 13.8, 5.9, 12.8, 5.3, 4.8, 7.8, 4.4, 8.9, 13.2, 12.8, 15.8, 3.8, 10.6, 9.9, 7.1, 10.2, 11.6, 5.9, 15.2, 21.2, 19.1, 16.7, 17.8, 14.3, 12.3, 9.2, 13.2, 19.3, 15.7, 9.6, 6.8], \"y\": [4.7, 2.8, 4.5, 6.8, 6.5, 2.0, 5.0, 2.2, 4.5, 7.8, 5.6, 4.0, 2.8, 4.2, 6.3, 3.2, 5.3, 3.5, 1.8, 5.8, 8.2, 4.4, 5.9, 5.7, 8.3, 2.0, 5.4, 3.8, 4.4, 1.8, 2.4, 3.0, 6.5, 2.1, 4.1, 0.7, 5.7, 0.7, 2.4, 3.1, 0.9, 6.5, 3.3, 5.5, 8.2, 2.4, 1.5, 2.1, 3.8, 7.2, 4.4, 3.2, 5.2, 6.0, 8.1, 3.0, 7.3, 2.6, 3.9, 1.7, 2.7, 2.9, 6.1, 1.9, 5.3], \"z\": [2.6, 1.7, 4.0, 3.4, 3.2, 2.6, 3.0, 1.3, 2.4, 5.1, 3.3, 4.4, 2.7, 2.6, 3.9, 3.8, 4.9, 1.8, 3.2, 5.3, 4.2, 2.4, 4.5, 3.4, 4.6, 3.9, 3.7, 3.2, 3.5, 1.2, 3.8, 2.4, 3.1, 1.8, 4.1, 2.0, 3.0, 1.3, 1.6, 3.3, 1.2, 4.3, 3.4, 3.4, 8.1, 2.1, 3.3, 2.6, 3.1, 6.9, 2.8, 2.3, 3.8, 7.8, 3.7, 2.9, 3.9, 5.0, 1.9, 3.4, 3.5, 4.7, 5.9, 3.1, 2.7]}],\n",
       "                        {\"legend\": {\"title\": {\"text\": \"new_pos\"}, \"tracegroupgap\": 0}, \"margin\": {\"t\": 60}, \"scene\": {\"domain\": {\"x\": [0.0, 1.0], \"y\": [0.0, 1.0]}, \"xaxis\": {\"title\": {\"text\": \"pts_per_g\"}}, \"yaxis\": {\"title\": {\"text\": \"ast_per_g\"}}, \"zaxis\": {\"title\": {\"text\": \"trb_per_g\"}}}, \"template\": {\"data\": {\"bar\": [{\"error_x\": {\"color\": \"#2a3f5f\"}, \"error_y\": {\"color\": \"#2a3f5f\"}, \"marker\": {\"line\": {\"color\": \"#E5ECF6\", \"width\": 0.5}}, \"type\": \"bar\"}], \"barpolar\": [{\"marker\": {\"line\": {\"color\": \"#E5ECF6\", \"width\": 0.5}}, \"type\": \"barpolar\"}], \"carpet\": [{\"aaxis\": {\"endlinecolor\": \"#2a3f5f\", \"gridcolor\": \"white\", \"linecolor\": \"white\", \"minorgridcolor\": \"white\", \"startlinecolor\": \"#2a3f5f\"}, \"baxis\": {\"endlinecolor\": \"#2a3f5f\", \"gridcolor\": \"white\", \"linecolor\": \"white\", \"minorgridcolor\": \"white\", \"startlinecolor\": \"#2a3f5f\"}, \"type\": \"carpet\"}], \"choropleth\": [{\"colorbar\": {\"outlinewidth\": 0, \"ticks\": \"\"}, \"type\": \"choropleth\"}], \"contour\": [{\"colorbar\": {\"outlinewidth\": 0, \"ticks\": \"\"}, \"colorscale\": [[0.0, \"#0d0887\"], [0.1111111111111111, \"#46039f\"], [0.2222222222222222, \"#7201a8\"], [0.3333333333333333, \"#9c179e\"], [0.4444444444444444, \"#bd3786\"], [0.5555555555555556, \"#d8576b\"], [0.6666666666666666, \"#ed7953\"], [0.7777777777777778, \"#fb9f3a\"], [0.8888888888888888, \"#fdca26\"], [1.0, \"#f0f921\"]], \"type\": \"contour\"}], \"contourcarpet\": [{\"colorbar\": {\"outlinewidth\": 0, \"ticks\": \"\"}, \"type\": \"contourcarpet\"}], \"heatmap\": [{\"colorbar\": {\"outlinewidth\": 0, \"ticks\": \"\"}, \"colorscale\": [[0.0, \"#0d0887\"], [0.1111111111111111, \"#46039f\"], [0.2222222222222222, \"#7201a8\"], [0.3333333333333333, \"#9c179e\"], [0.4444444444444444, \"#bd3786\"], [0.5555555555555556, \"#d8576b\"], [0.6666666666666666, \"#ed7953\"], [0.7777777777777778, \"#fb9f3a\"], [0.8888888888888888, \"#fdca26\"], [1.0, \"#f0f921\"]], \"type\": \"heatmap\"}], \"heatmapgl\": [{\"colorbar\": {\"outlinewidth\": 0, \"ticks\": \"\"}, \"colorscale\": [[0.0, \"#0d0887\"], [0.1111111111111111, \"#46039f\"], [0.2222222222222222, \"#7201a8\"], [0.3333333333333333, \"#9c179e\"], [0.4444444444444444, \"#bd3786\"], [0.5555555555555556, \"#d8576b\"], [0.6666666666666666, \"#ed7953\"], [0.7777777777777778, \"#fb9f3a\"], [0.8888888888888888, \"#fdca26\"], [1.0, \"#f0f921\"]], \"type\": \"heatmapgl\"}], \"histogram\": [{\"marker\": {\"colorbar\": {\"outlinewidth\": 0, \"ticks\": \"\"}}, \"type\": \"histogram\"}], \"histogram2d\": [{\"colorbar\": {\"outlinewidth\": 0, \"ticks\": \"\"}, \"colorscale\": [[0.0, \"#0d0887\"], [0.1111111111111111, \"#46039f\"], [0.2222222222222222, \"#7201a8\"], [0.3333333333333333, \"#9c179e\"], [0.4444444444444444, \"#bd3786\"], [0.5555555555555556, \"#d8576b\"], [0.6666666666666666, \"#ed7953\"], [0.7777777777777778, \"#fb9f3a\"], [0.8888888888888888, \"#fdca26\"], [1.0, \"#f0f921\"]], \"type\": \"histogram2d\"}], \"histogram2dcontour\": [{\"colorbar\": {\"outlinewidth\": 0, \"ticks\": \"\"}, \"colorscale\": [[0.0, \"#0d0887\"], [0.1111111111111111, \"#46039f\"], [0.2222222222222222, \"#7201a8\"], [0.3333333333333333, \"#9c179e\"], [0.4444444444444444, \"#bd3786\"], [0.5555555555555556, \"#d8576b\"], [0.6666666666666666, \"#ed7953\"], [0.7777777777777778, \"#fb9f3a\"], [0.8888888888888888, \"#fdca26\"], [1.0, \"#f0f921\"]], \"type\": \"histogram2dcontour\"}], \"mesh3d\": [{\"colorbar\": {\"outlinewidth\": 0, \"ticks\": \"\"}, \"type\": \"mesh3d\"}], \"parcoords\": [{\"line\": {\"colorbar\": {\"outlinewidth\": 0, \"ticks\": \"\"}}, \"type\": \"parcoords\"}], \"pie\": [{\"automargin\": true, \"type\": \"pie\"}], \"scatter\": [{\"marker\": {\"colorbar\": {\"outlinewidth\": 0, \"ticks\": \"\"}}, \"type\": \"scatter\"}], \"scatter3d\": [{\"line\": {\"colorbar\": {\"outlinewidth\": 0, \"ticks\": \"\"}}, \"marker\": {\"colorbar\": {\"outlinewidth\": 0, \"ticks\": \"\"}}, \"type\": \"scatter3d\"}], \"scattercarpet\": [{\"marker\": {\"colorbar\": {\"outlinewidth\": 0, \"ticks\": \"\"}}, \"type\": \"scattercarpet\"}], \"scattergeo\": [{\"marker\": {\"colorbar\": {\"outlinewidth\": 0, \"ticks\": \"\"}}, \"type\": \"scattergeo\"}], \"scattergl\": [{\"marker\": {\"colorbar\": {\"outlinewidth\": 0, \"ticks\": \"\"}}, \"type\": \"scattergl\"}], \"scattermapbox\": [{\"marker\": {\"colorbar\": {\"outlinewidth\": 0, \"ticks\": \"\"}}, \"type\": \"scattermapbox\"}], \"scatterpolar\": [{\"marker\": {\"colorbar\": {\"outlinewidth\": 0, \"ticks\": \"\"}}, \"type\": \"scatterpolar\"}], \"scatterpolargl\": [{\"marker\": {\"colorbar\": {\"outlinewidth\": 0, \"ticks\": \"\"}}, \"type\": \"scatterpolargl\"}], \"scatterternary\": [{\"marker\": {\"colorbar\": {\"outlinewidth\": 0, \"ticks\": \"\"}}, \"type\": \"scatterternary\"}], \"surface\": [{\"colorbar\": {\"outlinewidth\": 0, \"ticks\": \"\"}, \"colorscale\": [[0.0, \"#0d0887\"], [0.1111111111111111, \"#46039f\"], [0.2222222222222222, \"#7201a8\"], [0.3333333333333333, \"#9c179e\"], [0.4444444444444444, \"#bd3786\"], [0.5555555555555556, \"#d8576b\"], [0.6666666666666666, \"#ed7953\"], [0.7777777777777778, \"#fb9f3a\"], [0.8888888888888888, \"#fdca26\"], [1.0, \"#f0f921\"]], \"type\": \"surface\"}], \"table\": [{\"cells\": {\"fill\": {\"color\": \"#EBF0F8\"}, \"line\": {\"color\": \"white\"}}, \"header\": {\"fill\": {\"color\": \"#C8D4E3\"}, \"line\": {\"color\": \"white\"}}, \"type\": \"table\"}]}, \"layout\": {\"annotationdefaults\": {\"arrowcolor\": \"#2a3f5f\", \"arrowhead\": 0, \"arrowwidth\": 1}, \"coloraxis\": {\"colorbar\": {\"outlinewidth\": 0, \"ticks\": \"\"}}, \"colorscale\": {\"diverging\": [[0, \"#8e0152\"], [0.1, \"#c51b7d\"], [0.2, \"#de77ae\"], [0.3, \"#f1b6da\"], [0.4, \"#fde0ef\"], [0.5, \"#f7f7f7\"], [0.6, \"#e6f5d0\"], [0.7, \"#b8e186\"], [0.8, \"#7fbc41\"], [0.9, \"#4d9221\"], [1, \"#276419\"]], \"sequential\": [[0.0, \"#0d0887\"], [0.1111111111111111, \"#46039f\"], [0.2222222222222222, \"#7201a8\"], [0.3333333333333333, \"#9c179e\"], [0.4444444444444444, \"#bd3786\"], [0.5555555555555556, \"#d8576b\"], [0.6666666666666666, \"#ed7953\"], [0.7777777777777778, \"#fb9f3a\"], [0.8888888888888888, \"#fdca26\"], [1.0, \"#f0f921\"]], \"sequentialminus\": [[0.0, \"#0d0887\"], [0.1111111111111111, \"#46039f\"], [0.2222222222222222, \"#7201a8\"], [0.3333333333333333, \"#9c179e\"], [0.4444444444444444, \"#bd3786\"], [0.5555555555555556, \"#d8576b\"], [0.6666666666666666, \"#ed7953\"], [0.7777777777777778, \"#fb9f3a\"], [0.8888888888888888, \"#fdca26\"], [1.0, \"#f0f921\"]]}, \"colorway\": [\"#636efa\", \"#EF553B\", \"#00cc96\", \"#ab63fa\", \"#FFA15A\", \"#19d3f3\", \"#FF6692\", \"#B6E880\", \"#FF97FF\", \"#FECB52\"], \"font\": {\"color\": \"#2a3f5f\"}, \"geo\": {\"bgcolor\": \"white\", \"lakecolor\": \"white\", \"landcolor\": \"#E5ECF6\", \"showlakes\": true, \"showland\": true, \"subunitcolor\": \"white\"}, \"hoverlabel\": {\"align\": \"left\"}, \"hovermode\": \"closest\", \"mapbox\": {\"style\": \"light\"}, \"paper_bgcolor\": \"white\", \"plot_bgcolor\": \"#E5ECF6\", \"polar\": {\"angularaxis\": {\"gridcolor\": \"white\", \"linecolor\": \"white\", \"ticks\": \"\"}, \"bgcolor\": \"#E5ECF6\", \"radialaxis\": {\"gridcolor\": \"white\", \"linecolor\": \"white\", \"ticks\": \"\"}}, \"scene\": {\"xaxis\": {\"backgroundcolor\": \"#E5ECF6\", \"gridcolor\": \"white\", \"gridwidth\": 2, \"linecolor\": \"white\", \"showbackground\": true, \"ticks\": \"\", \"zerolinecolor\": \"white\"}, \"yaxis\": {\"backgroundcolor\": \"#E5ECF6\", \"gridcolor\": \"white\", \"gridwidth\": 2, \"linecolor\": \"white\", \"showbackground\": true, \"ticks\": \"\", \"zerolinecolor\": \"white\"}, \"zaxis\": {\"backgroundcolor\": \"#E5ECF6\", \"gridcolor\": \"white\", \"gridwidth\": 2, \"linecolor\": \"white\", \"showbackground\": true, \"ticks\": \"\", \"zerolinecolor\": \"white\"}}, \"shapedefaults\": {\"line\": {\"color\": \"#2a3f5f\"}}, \"ternary\": {\"aaxis\": {\"gridcolor\": \"white\", \"linecolor\": \"white\", \"ticks\": \"\"}, \"baxis\": {\"gridcolor\": \"white\", \"linecolor\": \"white\", \"ticks\": \"\"}, \"bgcolor\": \"#E5ECF6\", \"caxis\": {\"gridcolor\": \"white\", \"linecolor\": \"white\", \"ticks\": \"\"}}, \"title\": {\"x\": 0.05}, \"xaxis\": {\"automargin\": true, \"gridcolor\": \"white\", \"linecolor\": \"white\", \"ticks\": \"\", \"title\": {\"standoff\": 15}, \"zerolinecolor\": \"white\", \"zerolinewidth\": 2}, \"yaxis\": {\"automargin\": true, \"gridcolor\": \"white\", \"linecolor\": \"white\", \"ticks\": \"\", \"title\": {\"standoff\": 15}, \"zerolinecolor\": \"white\", \"zerolinewidth\": 2}}}},\n",
       "                        {\"responsive\": true}\n",
       "                    ).then(function(){\n",
       "                            \n",
       "var gd = document.getElementById('e42fb958-8f81-439e-a152-0222f50c6f9d');\n",
       "var x = new MutationObserver(function (mutations, observer) {{\n",
       "        var display = window.getComputedStyle(gd).display;\n",
       "        if (!display || display === 'none') {{\n",
       "            console.log([gd, 'removed!']);\n",
       "            Plotly.purge(gd);\n",
       "            observer.disconnect();\n",
       "        }}\n",
       "}});\n",
       "\n",
       "// Listen for the removal of the full notebook cells\n",
       "var notebookContainer = gd.closest('#notebook-container');\n",
       "if (notebookContainer) {{\n",
       "    x.observe(notebookContainer, {childList: true});\n",
       "}}\n",
       "\n",
       "// Listen for the clearing of the current output cell\n",
       "var outputEl = gd.closest('.output');\n",
       "if (outputEl) {{\n",
       "    x.observe(outputEl, {childList: true});\n",
       "}}\n",
       "\n",
       "                        })\n",
       "                };\n",
       "                });\n",
       "            </script>\n",
       "        </div>"
      ]
     },
     "metadata": {},
     "output_type": "display_data"
    }
   ],
   "source": [
    "\"\"\"\n",
    "Let's map:\n",
    "    Guard --> Guards\n",
    "    Guard/Forward , Forward --> Wings\n",
    "    Forward/Center , Center --> Big-Men\n",
    "\"\"\"\n",
    "\n",
    "temp = draft_data\n",
    "\n",
    "temp['new_pos'] = temp.pos.map({'Guard':'Guard','Guard/Forward':'Wing','Forward':'Wing',\n",
    "                                'Forward/Center':'Big Man','Center':'Big Man'})\n",
    "\n",
    "#Graph a 3D plot\n",
    "import plotly.express as pex\n",
    "\n",
    "plot = pex.scatter_3d(data_frame = temp,x='pts_per_g',y='ast_per_g',z='trb_per_g',color='new_pos')\n",
    "plot.show()"
   ]
  },
  {
   "cell_type": "code",
   "execution_count": 20,
   "metadata": {},
   "outputs": [],
   "source": [
    "plot.write_html(\"3dscatter.html\")"
   ]
  },
  {
   "cell_type": "markdown",
   "metadata": {},
   "source": [
    "##### Let's explore this further ... using Linear Discriminant Analysis with all numeric data as our input and  new_pos as our class label."
   ]
  },
  {
   "cell_type": "code",
   "execution_count": 21,
   "metadata": {},
   "outputs": [],
   "source": [
    "from sklearn.discriminant_analysis import LinearDiscriminantAnalysis as lda\n",
    "\n",
    "X = temp.reset_index().drop(['year','pick','team_id','pos','player','new_pos',\n",
    "                             'efg_pct','mp_per_g','bpm','ws'],axis=1)   #LDA with PPG, RPG, APG as only input factors\n",
    "y = temp.new_pos.reset_index().drop(['year','pick',],axis=1).new_pos\n",
    "\n",
    "lda_model = lda(n_components=2)\n",
    "newX = lda_model.fit_transform(X.values,y)"
   ]
  },
  {
   "cell_type": "code",
   "execution_count": 22,
   "metadata": {},
   "outputs": [
    {
     "data": {
      "text/plain": [
       "array([0.96226059, 0.03773941])"
      ]
     },
     "execution_count": 22,
     "metadata": {},
     "output_type": "execute_result"
    }
   ],
   "source": [
    "lda_model.explained_variance_ratio_"
   ]
  },
  {
   "cell_type": "code",
   "execution_count": 30,
   "metadata": {},
   "outputs": [
    {
     "data": {
      "image/png": "[encoded data removed]",
      "text/plain": [
       "<Figure size 432x288 with 1 Axes>"
      ]
     },
     "metadata": {
      "needs_background": "light"
     },
     "output_type": "display_data"
    }
   ],
   "source": [
    "plt.title('LDA graph with Position Groupings',fontdict={'fontsize':15})\n",
    "sns.scatterplot(x=newX[:,0],y=newX[:,1],hue=y)\n",
    "plt.savefig('ldascatter.png')"
   ]
  },
  {
   "cell_type": "markdown",
   "metadata": {},
   "source": [
    "### Analysis 5: Is there a clear relationship between career box score plus minus or win shares with pick number?"
   ]
  },
  {
   "cell_type": "code",
   "execution_count": 31,
   "metadata": {},
   "outputs": [
    {
     "data": {
      "image/png": "[encoded data removed]",
      "text/plain": [
       "<Figure size 1080x360 with 2 Axes>"
      ]
     },
     "metadata": {
      "needs_background": "light"
     },
     "output_type": "display_data"
    }
   ],
   "source": [
    "by_pick = draft_data.reset_index().groupby('pick').mean().reset_index()\n",
    "\n",
    "fig, axs = plt.subplots(1, 2, figsize=(15, 5))\n",
    "\n",
    "ws_stats = stats.pearsonr(by_pick.pick,by_pick.ws)\n",
    "sns.regplot(ax = axs[0], x='pick',y='ws',data=by_pick,color='red')\n",
    "axs[0].set_title('Average Career Win Shares vs. Pick # (2001 - 2020 drafts)',fontsize=15)\n",
    "axs[0].text(7,50,'R^2: ' + str((ws_stats[0]**2).round(2)) + ', p-val: ' + str(ws_stats[1].round(3)), fontsize=12)\n",
    "\n",
    "bpm_stats = stats.pearsonr(by_pick.pick,by_pick.bpm)\n",
    "sns.regplot(ax = axs[1], x='pick',y='bpm',data=by_pick, color = 'blue')\n",
    "axs[1].set_title('Average Career Box Plus-Minus vs. Pick # (2001 - 2020 drafts)',fontsize=15)\n",
    "axs[1].text(7,1.4,'R^2: ' + str((bpm_stats[0]**2).round(2)) + ', p-val: ' + str(bpm_stats[1].round(3)), fontsize=12)\n",
    "\n",
    "plt.tight_layout()\n",
    "\n",
    "plt.savefig('scatterplots.png')"
   ]
  },
  {
   "cell_type": "code",
   "execution_count": 32,
   "metadata": {},
   "outputs": [
    {
     "data": {
      "image/png": "[encoded data removed]",
      "text/plain": [
       "<Figure size 1440x720 with 2 Axes>"
      ]
     },
     "metadata": {
      "needs_background": "light"
     },
     "output_type": "display_data"
    }
   ],
   "source": [
    "fig, axs = plt.subplots(2, 1, figsize=(20, 10))\n",
    "\n",
    "sns.boxplot(ax = axs[0], x='pick',y='ws',data=draft_data.reset_index(),palette='Reds')\n",
    "axs[0].set_ylim(-5,150)\n",
    "axs[0].set_title('Career Win Shares vs. Pick # (2001 - 2020 drafts)',fontsize=15)\n",
    "\n",
    "sns.boxplot(ax = axs[1], x='pick',y='bpm',data=draft_data.reset_index(),palette='Blues')\n",
    "axs[1].set_ylim(-8,10)\n",
    "axs[1].set_title('Career Box Plus-Minus vs. Pick # (2001 - 2020 drafts)',fontsize=15)\n",
    "\n",
    "plt.savefig('boxplots.png')"
   ]
  },
  {
   "cell_type": "markdown",
   "metadata": {},
   "source": [
    "### Analysis 6: Are there differences in the rookie median minutes per game between positions among the top 6 drafting teams?"
   ]
  },
  {
   "cell_type": "code",
   "execution_count": 33,
   "metadata": {},
   "outputs": [
    {
     "data": {
      "image/png": "[encoded data removed]",
      "text/plain": [
       "<Figure size 1080x720 with 6 Axes>"
      ]
     },
     "metadata": {
      "needs_background": "light"
     },
     "output_type": "display_data"
    }
   ],
   "source": [
    "most_picks_teams = np.array(most_top10_picks.index)\n",
    "\n",
    "fig, axs = plt.subplots(3, 2, figsize=(15, 10))\n",
    "fig.suptitle('Median Rookie MPG Distribution among Positions Drafted by Top Drafting Teams', x=0.5, y=1, fontsize=15)\n",
    "\n",
    "ax_list = [axs[0,0],axs[0,1],axs[1,0],axs[1,1],axs[2,0],axs[2,1]]\n",
    "\n",
    "for i in range(6):\n",
    "    \n",
    "    data = draft_data[draft_data.team_id == most_picks_teams[i]].groupby('pos').median().mp_per_g\n",
    "    sns.barplot(ax = ax_list[i], x = data.index, y = data.values, palette='RdBu_r')\n",
    "    ax_list[i].set_title(most_picks_teams[i],fontsize=15)\n",
    "   \n",
    "plt.tight_layout()\n",
    "plt.setp(axs[:,0],ylabel = 'MPG')\n",
    "\n",
    "plt.savefig('barplot_grid.png')"
   ]
  }
 ],
 "metadata": {
  "kernelspec": {
   "display_name": "Python 3",
   "language": "python",
   "name": "python3"
  },
  "language_info": {
   "codemirror_mode": {
    "name": "ipython",
    "version": 3
   },
   "file_extension": ".py",
   "mimetype": "text/x-python",
   "name": "python",
   "nbconvert_exporter": "python",
   "pygments_lexer": "ipython3",
   "version": "3.7.6"
  }
 },
 "nbformat": 4,
 "nbformat_minor": 4
}
